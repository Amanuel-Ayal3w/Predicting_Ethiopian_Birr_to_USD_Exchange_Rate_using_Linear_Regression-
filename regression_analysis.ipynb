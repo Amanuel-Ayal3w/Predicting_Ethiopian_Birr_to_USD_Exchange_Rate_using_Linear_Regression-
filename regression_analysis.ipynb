{
 "cells": [
  {
   "cell_type": "code",
   "execution_count": 1,
   "metadata": {
    "jupyter": {
     "is_executing": true
    }
   },
   "outputs": [],
   "source": [
    "# Cell 1: Import Libraries\n",
    "import pandas as pd\n",
    "import numpy as np\n",
    "import matplotlib.pyplot as plt\n",
    "from sklearn.linear_model import LinearRegression\n",
    "from sklearn.metrics import mean_squared_error, mean_absolute_error, r2_score\n",
    "from sklearn.linear_model import Ridge\n",
    "from sklearn.model_selection import train_test_split\n",
    "import warnings\n",
    "warnings.filterwarnings(\"ignore\")"
   ]
  },
  {
   "cell_type": "code",
   "execution_count": 2,
   "metadata": {},
   "outputs": [
    {
     "data": {
      "text/html": [
       "<div>\n",
       "<style scoped>\n",
       "    .dataframe tbody tr th:only-of-type {\n",
       "        vertical-align: middle;\n",
       "    }\n",
       "\n",
       "    .dataframe tbody tr th {\n",
       "        vertical-align: top;\n",
       "    }\n",
       "\n",
       "    .dataframe thead th {\n",
       "        text-align: right;\n",
       "    }\n",
       "</style>\n",
       "<table border=\"1\" class=\"dataframe\">\n",
       "  <thead>\n",
       "    <tr style=\"text-align: right;\">\n",
       "      <th></th>\n",
       "      <th>Date</th>\n",
       "      <th>Price</th>\n",
       "      <th>Open</th>\n",
       "      <th>High</th>\n",
       "      <th>Low</th>\n",
       "    </tr>\n",
       "  </thead>\n",
       "  <tbody>\n",
       "    <tr>\n",
       "      <th>0</th>\n",
       "      <td>11/17/2024</td>\n",
       "      <td>123.8587</td>\n",
       "      <td>121.4654</td>\n",
       "      <td>123.8587</td>\n",
       "      <td>121.4654</td>\n",
       "    </tr>\n",
       "    <tr>\n",
       "      <th>1</th>\n",
       "      <td>11/10/2024</td>\n",
       "      <td>121.2884</td>\n",
       "      <td>123.2507</td>\n",
       "      <td>123.9567</td>\n",
       "      <td>121.7004</td>\n",
       "    </tr>\n",
       "    <tr>\n",
       "      <th>2</th>\n",
       "      <td>11/3/2024</td>\n",
       "      <td>120.7507</td>\n",
       "      <td>122.7902</td>\n",
       "      <td>123.8231</td>\n",
       "      <td>120.9500</td>\n",
       "    </tr>\n",
       "    <tr>\n",
       "      <th>3</th>\n",
       "      <td>10/27/2024</td>\n",
       "      <td>120.2902</td>\n",
       "      <td>122.0504</td>\n",
       "      <td>122.9600</td>\n",
       "      <td>120.1415</td>\n",
       "    </tr>\n",
       "    <tr>\n",
       "      <th>4</th>\n",
       "      <td>10/20/2024</td>\n",
       "      <td>119.5504</td>\n",
       "      <td>120.2263</td>\n",
       "      <td>122.0504</td>\n",
       "      <td>118.2119</td>\n",
       "    </tr>\n",
       "  </tbody>\n",
       "</table>\n",
       "</div>"
      ],
      "text/plain": [
       "         Date     Price      Open      High       Low\n",
       "0  11/17/2024  123.8587  121.4654  123.8587  121.4654\n",
       "1  11/10/2024  121.2884  123.2507  123.9567  121.7004\n",
       "2   11/3/2024  120.7507  122.7902  123.8231  120.9500\n",
       "3  10/27/2024  120.2902  122.0504  122.9600  120.1415\n",
       "4  10/20/2024  119.5504  120.2263  122.0504  118.2119"
      ]
     },
     "execution_count": 2,
     "metadata": {},
     "output_type": "execute_result"
    }
   ],
   "source": [
    "## Cell 2: Load and Inspect the Dataset\n",
    "file_path = \"ETB.csv\"\n",
    "data = pd.read_csv(file_path)\n",
    "\n",
    "# Remove columns with 'Unnamed' in their name\n",
    "data = data.loc[:, ~data.columns.str.contains('^Unnamed')]\n",
    "\n",
    "# Display the first few rows of the cleaned dataset\n",
    "data.head()"
   ]
  },
  {
   "cell_type": "code",
   "execution_count": 3,
   "metadata": {},
   "outputs": [
    {
     "data": {
      "text/html": [
       "<div>\n",
       "<style scoped>\n",
       "    .dataframe tbody tr th:only-of-type {\n",
       "        vertical-align: middle;\n",
       "    }\n",
       "\n",
       "    .dataframe tbody tr th {\n",
       "        vertical-align: top;\n",
       "    }\n",
       "\n",
       "    .dataframe thead th {\n",
       "        text-align: right;\n",
       "    }\n",
       "</style>\n",
       "<table border=\"1\" class=\"dataframe\">\n",
       "  <thead>\n",
       "    <tr style=\"text-align: right;\">\n",
       "      <th></th>\n",
       "      <th>Date</th>\n",
       "      <th>Price</th>\n",
       "      <th>Open</th>\n",
       "      <th>High</th>\n",
       "      <th>Low</th>\n",
       "      <th>Days</th>\n",
       "      <th>Weight</th>\n",
       "    </tr>\n",
       "  </thead>\n",
       "  <tbody>\n",
       "    <tr>\n",
       "      <th>0</th>\n",
       "      <td>2024-11-17</td>\n",
       "      <td>123.8587</td>\n",
       "      <td>121.4654</td>\n",
       "      <td>123.8587</td>\n",
       "      <td>121.4654</td>\n",
       "      <td>11256.0</td>\n",
       "      <td>8</td>\n",
       "    </tr>\n",
       "    <tr>\n",
       "      <th>1</th>\n",
       "      <td>2024-11-10</td>\n",
       "      <td>121.2884</td>\n",
       "      <td>123.2507</td>\n",
       "      <td>123.9567</td>\n",
       "      <td>121.7004</td>\n",
       "      <td>11249.0</td>\n",
       "      <td>8</td>\n",
       "    </tr>\n",
       "    <tr>\n",
       "      <th>2</th>\n",
       "      <td>2024-11-03</td>\n",
       "      <td>120.7507</td>\n",
       "      <td>122.7902</td>\n",
       "      <td>123.8231</td>\n",
       "      <td>120.9500</td>\n",
       "      <td>11242.0</td>\n",
       "      <td>8</td>\n",
       "    </tr>\n",
       "    <tr>\n",
       "      <th>3</th>\n",
       "      <td>2024-10-27</td>\n",
       "      <td>120.2902</td>\n",
       "      <td>122.0504</td>\n",
       "      <td>122.9600</td>\n",
       "      <td>120.1415</td>\n",
       "      <td>11235.0</td>\n",
       "      <td>8</td>\n",
       "    </tr>\n",
       "    <tr>\n",
       "      <th>4</th>\n",
       "      <td>2024-10-20</td>\n",
       "      <td>119.5504</td>\n",
       "      <td>120.2263</td>\n",
       "      <td>122.0504</td>\n",
       "      <td>118.2119</td>\n",
       "      <td>11228.0</td>\n",
       "      <td>8</td>\n",
       "    </tr>\n",
       "  </tbody>\n",
       "</table>\n",
       "</div>"
      ],
      "text/plain": [
       "        Date     Price      Open      High       Low     Days  Weight\n",
       "0 2024-11-17  123.8587  121.4654  123.8587  121.4654  11256.0       8\n",
       "1 2024-11-10  121.2884  123.2507  123.9567  121.7004  11249.0       8\n",
       "2 2024-11-03  120.7507  122.7902  123.8231  120.9500  11242.0       8\n",
       "3 2024-10-27  120.2902  122.0504  122.9600  120.1415  11235.0       8\n",
       "4 2024-10-20  119.5504  120.2263  122.0504  118.2119  11228.0       8"
      ]
     },
     "execution_count": 3,
     "metadata": {},
     "output_type": "execute_result"
    }
   ],
   "source": [
    "# Cell 3: Preprocessing\n",
    "data[\"Date\"] = pd.to_datetime(data[\"Date\"])\n",
    "data[\"Days\"] = (data[\"Date\"] - data[\"Date\"].min()).dt.days\n",
    "data[\"Weight\"] = np.where(data[\"Date\"] >= pd.to_datetime(\"2020-01-01\"), 8, 1)  # Increase weight to 5 for data after 2020\n",
    "data_cleaned = data.dropna()\n",
    "features = data_cleaned[[\"Days\", \"Open\", \"Low\"]]\n",
    "target = data_cleaned[\"High\"]\n",
    "weights = data_cleaned[\"Weight\"]\n",
    "\n",
    "data.head()"
   ]
  },
  {
   "cell_type": "code",
   "execution_count": null,
   "metadata": {},
   "outputs": [],
   "source": [
    "# Cell 4: Split Data\n",
    "from sklearn.model_selection import train_test_split\n",
    "X_train, X_temp, y_train, y_temp = train_test_split(features, target, test_size=0.3, random_state=42)\n",
    "X_val, X_test, y_val, y_test = train_test_split(X_temp, y_temp, test_size=0.33, random_state=42)\n",
    "print(f\"Training set: {X_train.shape[0]} samples\")\n",
    "print(f\"Validation set: {X_val.shape[0]} samples\")\n",
    "print(f\"Test set: {X_test.shape[0]} samples\")"
   ]
  },
  {
   "cell_type": "code",
   "execution_count": null,
   "metadata": {},
   "outputs": [],
   "source": [
    "# Cell 5: Hyperparameter Tuning using Gradient Descent\n",
    "import numpy as np\n",
    "from sklearn.linear_model import Ridge\n",
    "from sklearn.metrics import mean_squared_error\n",
    "\n",
    "# Initialize alpha\n",
    "alpha = 1.0\n",
    "\n",
    "# Define learning rate and number of iterations\n",
    "learning_rate = 0.01\n",
    "num_iterations = 100\n",
    "\n",
    "# Function to compute the gradient of the loss with respect to alpha\n",
    "def compute_gradient(X, y, model, alpha):\n",
    "    model.set_params(alpha=alpha)\n",
    "    model.fit(X, y)\n",
    "    y_pred = model.predict(X)\n",
    "    gradient = -2 * np.sum((y - y_pred) * y_pred) / len(y)\n",
    "    return gradient\n",
    "\n",
    "# Gradient descent loop\n",
    "for i in range(num_iterations):\n",
    "    model = Ridge(alpha=alpha)\n",
    "    gradient = compute_gradient(X_train, y_train, model, alpha)\n",
    "    alpha -= learning_rate * gradient\n",
    "    print(f\"Iteration {i+1}: alpha = {alpha}\")\n",
    "\n",
    "# Train the final model with the optimized alpha\n",
    "final_model = Ridge(alpha=alpha)\n",
    "final_model.fit(X_train, y_train, sample_weight=weights.loc[X_train.index])\n",
    "\n",
    "# Evaluate the final model on the test set\n",
    "y_test_pred = final_model.predict(X_test)\n",
    "mse = mean_squared_error(y_test, y_test_pred)\n",
    "mae = mean_absolute_error(y_test, y_test_pred)\n",
    "r2 = r2_score(y_test, y_test_pred)\n",
    "\n",
    "print(f\"Optimized alpha: {alpha}\")\n",
    "print(f\"Test Mean Squared Error: {mse}\")\n",
    "print(f\"Test Mean Absolute Error: {mae}\")\n",
    "print(f\"Test R-squared: {r2}\")"
   ]
  },
  {
   "cell_type": "code",
   "execution_count": 50,
   "metadata": {},
   "outputs": [
    {
     "name": "stdout",
     "output_type": "stream",
     "text": [
      "  Feature  Coefficient\n",
      "0    Days    -0.000112\n",
      "1    Open    -0.496586\n",
      "2     Low     1.537230\n",
      "Intercept: 0.052956515218369304\n"
     ]
    }
   ],
   "source": [
    "# Cell 5: Train the Model\n",
    "from sklearn.linear_model import Ridge\n",
    "model = Ridge()\n",
    "model.fit(X_train, y_train, sample_weight=weights.loc[X_train.index])\n",
    "coefficients = pd.DataFrame({\"Feature\": features.columns, \"Coefficient\": model.coef_})\n",
    "print(coefficients)\n",
    "print(f\"Intercept: {model.intercept_}\")"
   ]
  },
  {
   "cell_type": "code",
   "execution_count": 6,
   "metadata": {},
   "outputs": [
    {
     "ename": "NameError",
     "evalue": "name 'X_val' is not defined",
     "output_type": "error",
     "traceback": [
      "\u001b[0;31m---------------------------------------------------------------------------\u001b[0m",
      "\u001b[0;31mNameError\u001b[0m                                 Traceback (most recent call last)",
      "Cell \u001b[0;32mIn[6], line 2\u001b[0m\n\u001b[1;32m      1\u001b[0m \u001b[38;5;66;03m# Cell 6: Evaluate the Model\u001b[39;00m\n\u001b[0;32m----> 2\u001b[0m y_val_pred \u001b[38;5;241m=\u001b[39m model\u001b[38;5;241m.\u001b[39mpredict(\u001b[43mX_val\u001b[49m)\n\u001b[1;32m      3\u001b[0m y_test_pred \u001b[38;5;241m=\u001b[39m model\u001b[38;5;241m.\u001b[39mpredict(X_test)\n\u001b[1;32m      4\u001b[0m mse \u001b[38;5;241m=\u001b[39m mean_squared_error(y_test, y_test_pred)\n",
      "\u001b[0;31mNameError\u001b[0m: name 'X_val' is not defined"
     ]
    }
   ],
   "source": [
    "# Cell 6: Evaluate the Model\n",
    "y_val_pred = model.predict(X_val)\n",
    "y_test_pred = model.predict(X_test)\n",
    "mse = mean_squared_error(y_test, y_test_pred)\n",
    "mae = mean_absolute_error(y_test, y_test_pred)\n",
    "r2 = r2_score(y_test, y_test_pred)\n",
    "print(f\"Mean Squared Error: {mse}\")\n",
    "print(f\"Mean Absolute Error: {mae}\")\n",
    "print(f\"R-squared: {r2}\")"
   ]
  },
  {
   "cell_type": "code",
   "execution_count": 7,
   "metadata": {},
   "outputs": [
    {
     "ename": "NameError",
     "evalue": "name 'y_test' is not defined",
     "output_type": "error",
     "traceback": [
      "\u001b[0;31m---------------------------------------------------------------------------\u001b[0m",
      "\u001b[0;31mNameError\u001b[0m                                 Traceback (most recent call last)",
      "Cell \u001b[0;32mIn[7], line 3\u001b[0m\n\u001b[1;32m      1\u001b[0m \u001b[38;5;66;03m# Cell 7: Visualization\u001b[39;00m\n\u001b[1;32m      2\u001b[0m plt\u001b[38;5;241m.\u001b[39mfigure(figsize\u001b[38;5;241m=\u001b[39m(\u001b[38;5;241m6\u001b[39m, \u001b[38;5;241m6\u001b[39m))\n\u001b[0;32m----> 3\u001b[0m plt\u001b[38;5;241m.\u001b[39mscatter(\u001b[43my_test\u001b[49m, y_test_pred, alpha\u001b[38;5;241m=\u001b[39m\u001b[38;5;241m0.7\u001b[39m, color\u001b[38;5;241m=\u001b[39m\u001b[38;5;124m\"\u001b[39m\u001b[38;5;124mblue\u001b[39m\u001b[38;5;124m\"\u001b[39m)\n\u001b[1;32m      4\u001b[0m plt\u001b[38;5;241m.\u001b[39mplot([y_test\u001b[38;5;241m.\u001b[39mmin(), y_test\u001b[38;5;241m.\u001b[39mmax()], [y_test\u001b[38;5;241m.\u001b[39mmin(), y_test\u001b[38;5;241m.\u001b[39mmax()], \u001b[38;5;124m'\u001b[39m\u001b[38;5;124mr--\u001b[39m\u001b[38;5;124m'\u001b[39m)\n\u001b[1;32m      5\u001b[0m plt\u001b[38;5;241m.\u001b[39mxlabel(\u001b[38;5;124m\"\u001b[39m\u001b[38;5;124mActual\u001b[39m\u001b[38;5;124m\"\u001b[39m)\n",
      "\u001b[0;31mNameError\u001b[0m: name 'y_test' is not defined"
     ]
    },
    {
     "data": {
      "text/plain": [
       "<Figure size 600x600 with 0 Axes>"
      ]
     },
     "metadata": {},
     "output_type": "display_data"
    }
   ],
   "source": [
    "# Cell 7: Visualization\n",
    "plt.figure(figsize=(6, 6))\n",
    "plt.scatter(y_test, y_test_pred, alpha=0.7, color=\"blue\")\n",
    "plt.plot([y_test.min(), y_test.max()], [y_test.min(), y_test.max()], 'r--')\n",
    "plt.xlabel(\"Actual\")\n",
    "plt.ylabel(\"Predicted\")\n",
    "plt.title(\"Actual vs Predicted High Values\")\n",
    "plt.show()\n",
    "\n",
    "days_range = np.linspace(features[\"Days\"].min(), features[\"Days\"].max(), 100).reshape(-1, 1)\n",
    "mean_values = np.mean(features[[\"Open\", \"Low\"]], axis=0).values.reshape(1, -1)\n",
    "mean_values_repeated = np.repeat(mean_values, days_range.shape[0], axis=0)\n",
    "high_pred_line = model.predict(np.hstack([days_range, mean_values_repeated]))\n",
    "\n",
    "# Plot the regression line\n",
    "plt.figure(figsize=(10, 6))\n",
    "plt.scatter(features[\"Days\"], target, alpha=0.5, label=\"Actual Data\")\n",
    "plt.plot(days_range, high_pred_line, color=\"red\", label=\"Regression Line\")\n",
    "plt.xlabel(\"Days Since Start\")\n",
    "plt.ylabel(\"High Price\")\n",
    "plt.title(\"Regression Line with Multiple Features\")\n",
    "plt.legend()\n",
    "plt.show()\n"
   ]
  },
  {
   "cell_type": "code",
   "execution_count": null,
   "metadata": {},
   "outputs": [],
   "source": [
    "# Cell 8: Prediction Interface\n",
    "def predict_high(input_date):\n",
    "    input_date = pd.to_datetime(input_date)\n",
    "    days_since_start = (input_date - data_cleaned[\"Date\"].min()).days\n",
    "    closest_row = data_cleaned.iloc[(data_cleaned[\"Days\"] - days_since_start).abs().argmin()]\n",
    "    open_val = closest_row[\"Open\"]\n",
    "    low_val = closest_row[\"Low\"]\n",
    "    prediction = model.predict([[days_since_start, open_val, low_val]])[0]\n",
    "    return prediction\n",
    "\n",
    "input_date = input(\"Enter Date (YYYY-MM-DD): \")\n",
    "predicted_high = predict_high(input_date)\n",
    "print(f\"Predicted High for {input_date}: {predicted_high}\")"
   ]
  },
  {
   "cell_type": "code",
   "execution_count": null,
   "metadata": {},
   "outputs": [],
   "source": []
  }
 ],
 "metadata": {
  "file_extension": ".py",
  "kernelspec": {
   "display_name": "Python 3 (ipykernel)",
   "language": "python",
   "name": "python3"
  },
  "language_info": {
   "codemirror_mode": {
    "name": "ipython",
    "version": 3
   },
   "file_extension": ".py",
   "mimetype": "text/x-python",
   "name": "python",
   "nbconvert_exporter": "python",
   "pygments_lexer": "ipython3",
   "version": "3.12.3"
  },
  "mimetype": "text/x-python",
  "name": "python",
  "npconvert_exporter": "python",
  "pygments_lexer": "ipython3",
  "version": 3
 },
 "nbformat": 4,
 "nbformat_minor": 4
}
